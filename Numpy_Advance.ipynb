{
 "cells": [
  {
   "cell_type": "markdown",
   "id": "fb5aba75",
   "metadata": {},
   "source": [
    "# NumPy (Numerical Python) is a library for numerical computing in Python\n",
    "\n",
    "#### Numerical computing allows us to perform complex calculations efficiently.\n",
    "\n",
    " Basic Arithmetic\n",
    " \n",
    " Matrix Operations\n",
    " \n",
    " Solving Linear Equations \n",
    " \n",
    " Finding Eigenvalues and Eigenvectors\n",
    " \n",
    " Numerical Integration (Approximating Areas Under a Curve)\n",
    " \n",
    " Solving Differential Equations "
   ]
  },
  {
   "cell_type": "code",
   "execution_count": 1,
   "id": "b0a77386",
   "metadata": {},
   "outputs": [
    {
     "name": "stdout",
     "output_type": "stream",
     "text": [
      "Requirement already satisfied: numpy in c:\\users\\lenovo\\anaconda3\\lib\\site-packages (1.26.4)\n",
      "Note: you may need to restart the kernel to use updated packages.\n"
     ]
    }
   ],
   "source": [
    "pip install numpy"
   ]
  },
  {
   "cell_type": "code",
   "execution_count": 2,
   "id": "fa766e01",
   "metadata": {},
   "outputs": [],
   "source": [
    "import numpy as np"
   ]
  },
  {
   "cell_type": "code",
   "execution_count": 3,
   "id": "8166263b",
   "metadata": {},
   "outputs": [
    {
     "name": "stdout",
     "output_type": "stream",
     "text": [
      "[1 2 3 4 5]\n"
     ]
    }
   ],
   "source": [
    "arr = np.array([1, 2, 3, 4, 5])  # 1D array\n",
    "print(arr)"
   ]
  },
  {
   "cell_type": "code",
   "execution_count": 4,
   "id": "9ab7dff4",
   "metadata": {},
   "outputs": [
    {
     "name": "stdout",
     "output_type": "stream",
     "text": [
      "[[1 2 3]\n",
      " [4 5 6]]\n"
     ]
    }
   ],
   "source": [
    "arr2D = np.array([[1, 2, 3], [4, 5, 6]])  # 2D array\n",
    "print(arr2D)"
   ]
  },
  {
   "cell_type": "code",
   "execution_count": 6,
   "id": "f67256dc",
   "metadata": {},
   "outputs": [
    {
     "name": "stdout",
     "output_type": "stream",
     "text": [
      "2\n",
      "(2, 3)\n",
      "6\n",
      "int32\n"
     ]
    }
   ],
   "source": [
    "print(arr2D.ndim)  # Number of dimensions\n",
    "print(arr2D.shape)  # Shape of the array\n",
    "print(arr2D.size)   # Total number of elements\n",
    "print(arr2D.dtype)  # Data type of elements"
   ]
  },
  {
   "cell_type": "code",
   "execution_count": 12,
   "id": "f3632e3c",
   "metadata": {},
   "outputs": [
    {
     "name": "stdout",
     "output_type": "stream",
     "text": [
      "[[0. 0. 0.]\n",
      " [0. 0. 0.]\n",
      " [0. 0. 0.]]\n",
      "[[1. 1. 1. 1.]\n",
      " [1. 1. 1. 1.]]\n",
      "[[1. 0. 0. 0.]\n",
      " [0. 1. 0. 0.]\n",
      " [0. 0. 1. 0.]\n",
      " [0. 0. 0. 1.]]\n",
      "[[0.51816077 0.17102523 0.93541299]\n",
      " [0.04351182 0.00975803 0.95446687]\n",
      " [0.54666791 0.79801689 0.16711035]]\n"
     ]
    }
   ],
   "source": [
    "zeros = np.zeros((3, 3))  # 3x3 matrix of zeros\n",
    "ones = np.ones((2, 4))  # 2x4 matrix of ones\n",
    "eye = np.eye(4)  # Identity matrix\n",
    "rand = np.random.rand(3, 3)  # 3x3 random numbers (0 to 1)\n",
    "\n",
    "\n",
    "print(zeros)\n",
    "print(ones)\n",
    "print(eye)\n",
    "print(rand)"
   ]
  },
  {
   "cell_type": "code",
   "execution_count": 9,
   "id": "e72a7418",
   "metadata": {},
   "outputs": [
    {
     "name": "stdout",
     "output_type": "stream",
     "text": [
      "10\n",
      "50\n",
      "[20 30 40]\n"
     ]
    }
   ],
   "source": [
    "arr = np.array([10, 20, 30, 40, 50])\n",
    "\n",
    "print(arr[0])  # First element\n",
    "print(arr[-1])  # Last element\n",
    "print(arr[1:4])  # Elements from index 1 to 3"
   ]
  },
  {
   "cell_type": "code",
   "execution_count": 10,
   "id": "ee036dcd",
   "metadata": {},
   "outputs": [
    {
     "name": "stdout",
     "output_type": "stream",
     "text": [
      "6\n",
      "[2 5 8]\n",
      "[[2 3]\n",
      " [5 6]]\n"
     ]
    }
   ],
   "source": [
    "arr2D = np.array([[1, 2, 3], [4, 5, 6], [7, 8, 9]])\n",
    "\n",
    "print(arr2D[1, 2])  # Element at row 1, col 2\n",
    "print(arr2D[:, 1])  # All rows, column 1\n",
    "print(arr2D[0:2, 1:3])  # Sub-matrix"
   ]
  },
  {
   "cell_type": "markdown",
   "id": "791d5220",
   "metadata": {},
   "source": [
    "## Array Operations\n",
    "\n",
    "##### Element-wise Operations"
   ]
  },
  {
   "cell_type": "code",
   "execution_count": 14,
   "id": "a854b883",
   "metadata": {},
   "outputs": [
    {
     "name": "stdout",
     "output_type": "stream",
     "text": [
      "[5 7 9]\n",
      "[ 4 10 18]\n",
      "[1 4 9]\n"
     ]
    }
   ],
   "source": [
    "arr1 = np.array([1, 2, 3])\n",
    "arr2 = np.array([4, 5, 6])\n",
    "\n",
    "print(arr1 + arr2)  # [5 7 9]\n",
    "print(arr1 * arr2)  # [4 10 18]\n",
    "print(arr1 ** 2)  # [1 4 9]"
   ]
  },
  {
   "cell_type": "markdown",
   "id": "75b68bdc",
   "metadata": {},
   "source": [
    "# Mathematical Functions"
   ]
  },
  {
   "cell_type": "code",
   "execution_count": 15,
   "id": "9dd8642f",
   "metadata": {},
   "outputs": [
    {
     "name": "stdout",
     "output_type": "stream",
     "text": [
      "[ 0.84147098  0.90929743  0.14112001 -0.7568025 ]\n",
      "[0.         0.69314718 1.09861229 1.38629436]\n",
      "[1.         1.41421356 1.73205081 2.        ]\n",
      "10\n",
      "2.5\n",
      "4\n"
     ]
    }
   ],
   "source": [
    "arr = np.array([1, 2, 3, 4])\n",
    "print(np.sin(arr))\n",
    "print(np.log(arr))\n",
    "print(np.sqrt(arr))\n",
    "print(np.sum(arr))\n",
    "print(np.mean(arr))\n",
    "print(np.max(arr))"
   ]
  },
  {
   "cell_type": "markdown",
   "id": "9901c496",
   "metadata": {},
   "source": [
    "# Broadcasting"
   ]
  },
  {
   "cell_type": "code",
   "execution_count": 16,
   "id": "914a85d6",
   "metadata": {},
   "outputs": [
    {
     "name": "stdout",
     "output_type": "stream",
     "text": [
      "[[11 12 13]\n",
      " [14 15 16]]\n"
     ]
    }
   ],
   "source": [
    "arr = np.array([[1, 2, 3], [4, 5, 6]])\n",
    "print(arr + 10)  # Adds 10 to all elements"
   ]
  },
  {
   "cell_type": "markdown",
   "id": "24ecf076",
   "metadata": {},
   "source": [
    "# Reshaping and Flattening"
   ]
  },
  {
   "cell_type": "code",
   "execution_count": 18,
   "id": "1ee9c5b8",
   "metadata": {},
   "outputs": [
    {
     "name": "stdout",
     "output_type": "stream",
     "text": [
      "[[1 2 3]\n",
      " [4 5 6]]\n",
      "[[1 2]\n",
      " [3 4]\n",
      " [5 6]]\n",
      "[1 2 3 4 5 6]\n"
     ]
    }
   ],
   "source": [
    "arr = np.array([[1, 2, 3], [4, 5, 6]])\n",
    "reshaped = arr.reshape((3, 2))  # Change shape\n",
    "flattened = arr.flatten()  # Convert to 1D\n",
    "\n",
    "print(arr)\n",
    "print(reshaped)\n",
    "print(flattened)"
   ]
  },
  {
   "cell_type": "markdown",
   "id": "718d0d23",
   "metadata": {},
   "source": [
    "# 8. Stacking and Splitting\n",
    "### Stacking (Combining Arrays)\n",
    "\n",
    "\n"
   ]
  },
  {
   "cell_type": "code",
   "execution_count": 19,
   "id": "a5c0f4ce",
   "metadata": {},
   "outputs": [
    {
     "name": "stdout",
     "output_type": "stream",
     "text": [
      "[[1 2 3]\n",
      " [4 5 6]]\n",
      "[1 2 3 4 5 6]\n"
     ]
    }
   ],
   "source": [
    "arr1 = np.array([1, 2, 3])\n",
    "arr2 = np.array([4, 5, 6])\n",
    "\n",
    "print(np.vstack((arr1, arr2)))  # Vertical stack\n",
    "\n",
    "print(np.hstack((arr1, arr2)))  # Horizontal stack"
   ]
  },
  {
   "cell_type": "markdown",
   "id": "38be0a48",
   "metadata": {},
   "source": [
    "# Splitting (Dividing Arrays)"
   ]
  },
  {
   "cell_type": "code",
   "execution_count": 20,
   "id": "335792d6",
   "metadata": {},
   "outputs": [
    {
     "name": "stdout",
     "output_type": "stream",
     "text": [
      "[array([1, 2]), array([3, 4]), array([5, 6])]\n"
     ]
    }
   ],
   "source": [
    "arr = np.array([1, 2, 3, 4, 5, 6])\n",
    "\n",
    "split_arr = np.split(arr, 3)  # Split into 3 equal parts\n",
    "\n",
    "print(split_arr)"
   ]
  },
  {
   "cell_type": "markdown",
   "id": "eb7b04c3",
   "metadata": {},
   "source": [
    "#  <span style=\"color: red\"> Advanced NumPy Concepts </span>"
   ]
  },
  {
   "cell_type": "markdown",
   "id": "2b271859",
   "metadata": {},
   "source": [
    "###  <span style=\"color: blue\"> Boolean Indexing </span>"
   ]
  },
  {
   "cell_type": "code",
   "execution_count": 22,
   "id": "bf7b97b7",
   "metadata": {},
   "outputs": [
    {
     "name": "stdout",
     "output_type": "stream",
     "text": [
      "[30 40 50]\n"
     ]
    }
   ],
   "source": [
    "arr = np.array([10, 20, 30, 40, 50])\n",
    "print(arr[arr > 25])  # Filters elements greater than 25"
   ]
  },
  {
   "cell_type": "markdown",
   "id": "8e6fef0b",
   "metadata": {},
   "source": [
    "###  <span style=\"color: blue\"> Fancy Indexing </span>"
   ]
  },
  {
   "cell_type": "code",
   "execution_count": 23,
   "id": "e2942271",
   "metadata": {},
   "outputs": [
    {
     "name": "stdout",
     "output_type": "stream",
     "text": [
      "[10 30 50]\n"
     ]
    }
   ],
   "source": [
    "arr = np.array([10, 20, 30, 40, 50])\n",
    "idx = [0, 2, 4]  # Selecting specific indices\n",
    "print(arr[idx])"
   ]
  },
  {
   "cell_type": "markdown",
   "id": "bedbc286",
   "metadata": {},
   "source": [
    "###  <span style=\"color: blue\"> Sorting </span>"
   ]
  },
  {
   "cell_type": "code",
   "execution_count": 24,
   "id": "f9193efe",
   "metadata": {},
   "outputs": [
    {
     "name": "stdout",
     "output_type": "stream",
     "text": [
      "[1 1 3 4 5 9]\n"
     ]
    }
   ],
   "source": [
    "arr = np.array([3, 1, 4, 1, 5, 9])\n",
    "print(np.sort(arr))  # Sorts in ascending order"
   ]
  },
  {
   "cell_type": "markdown",
   "id": "86e0f975",
   "metadata": {},
   "source": [
    "###  <span style=\"color: blue\"> Unique Elements </span>"
   ]
  },
  {
   "cell_type": "code",
   "execution_count": 25,
   "id": "c83b8618",
   "metadata": {},
   "outputs": [
    {
     "name": "stdout",
     "output_type": "stream",
     "text": [
      "[1 2 3 4 5]\n"
     ]
    }
   ],
   "source": [
    "arr = np.array([1, 2, 2, 3, 4, 4, 4, 5])\n",
    "print(np.unique(arr))  # Removes duplicates"
   ]
  },
  {
   "cell_type": "markdown",
   "id": "65aa1243",
   "metadata": {},
   "source": [
    "###  <span style=\"color: blue\"> Random Sampling </span>"
   ]
  },
  {
   "cell_type": "code",
   "execution_count": 28,
   "id": "94b7a5fa",
   "metadata": {},
   "outputs": [
    {
     "name": "stdout",
     "output_type": "stream",
     "text": [
      "[86  8 11 63 47]\n",
      "[[-0.04706179 -0.15171253  1.11393977]\n",
      " [ 3.13306086  1.26730732 -0.78711455]\n",
      " [ 0.17494458  0.50189219  0.56790231]]\n"
     ]
    }
   ],
   "source": [
    "rand_ints = np.random.randint(1, 100, 5)  # 5 random numbers between 1-100\n",
    "rand_normal = np.random.randn(3, 3)   # 3x3 matrix with normal distribution\n",
    "\n",
    "print(rand_ints)\n",
    "print(rand_normal)"
   ]
  },
  {
   "cell_type": "markdown",
   "id": "abeea499",
   "metadata": {},
   "source": [
    "###  <span style=\"color: blue\"> Linear Algebra with NumPy </span> "
   ]
  },
  {
   "cell_type": "code",
   "execution_count": null,
   "id": "29a4e6f8",
   "metadata": {},
   "outputs": [],
   "source": [
    "A = np.array([[1, 2], [3, 4]])\n",
    "B = np.array([[5, 6], [7, 8]])\n",
    "\n",
    "print(np.dot(A, B))  # Matrix multiplication\n",
    "print(np.linalg.det(A))  # Determinant of A\n",
    "print(np.linalg.inv(A))  # Inverse of A\n",
    "print(np.linalg.eig(A))  "
   ]
  },
  {
   "cell_type": "code",
   "execution_count": null,
   "id": "b78c29f1",
   "metadata": {},
   "outputs": [],
   "source": [
    "folder_path = \"D:/\"  # Change this to your desired path\n",
    "file_name = \"array.npy\"\n",
    "full_path = os.path.join(folder_path, file_name)"
   ]
  },
  {
   "cell_type": "code",
   "execution_count": 58,
   "id": "91a7f9b2",
   "metadata": {},
   "outputs": [
    {
     "name": "stdout",
     "output_type": "stream",
     "text": [
      "File saved successfully at: D:/MyData\\array.npy\n",
      "[[0.89726381 0.13691525 0.53447211]\n",
      " [0.30105887 0.61455166 0.55431711]\n",
      " [0.73464279 0.90806596 0.57874235]]\n"
     ]
    }
   ],
   "source": [
    "import numpy as np\n",
    "import os\n",
    "\n",
    "# Define the folder and filename\n",
    "folder_path = \"D:/MyData\"  # Change this to your desired path\n",
    "file_name = \"array.npy\"\n",
    "full_path = os.path.join(folder_path, file_name)  # Combine folder and filename\n",
    "\n",
    "# Create the folder if it doesn't exist\n",
    "os.makedirs(folder_path, exist_ok=True)\n",
    "\n",
    "# Create and save an array\n",
    "arr = np.random.rand(3, 3)\n",
    "np.save(full_path,arr)\n",
    "\n",
    "print(f\"File saved successfully at: {full_path}\")\n",
    "\n",
    "loaded_arr = np.load(full_path)  # Load array\n",
    "\n",
    "print(loaded_arr)"
   ]
  },
  {
   "cell_type": "markdown",
   "id": "4e6d06a4",
   "metadata": {},
   "source": [
    "# Load Multiple Arrays (.npz file)"
   ]
  },
  {
   "cell_type": "code",
   "execution_count": 62,
   "id": "10fd319c",
   "metadata": {},
   "outputs": [
    {
     "name": "stdout",
     "output_type": "stream",
     "text": [
      "Array names in the file: ['array1', 'array2']\n",
      "Array 'array1':\n",
      "Array 'array2':\n"
     ]
    },
    {
     "ename": "ValueError",
     "evalue": "The truth value of an array with more than one element is ambiguous. Use a.any() or a.all()",
     "output_type": "error",
     "traceback": [
      "\u001b[1;31m---------------------------------------------------------------------------\u001b[0m",
      "\u001b[1;31mValueError\u001b[0m                                Traceback (most recent call last)",
      "Cell \u001b[1;32mIn[62], line 13\u001b[0m\n\u001b[0;32m     10\u001b[0m     \u001b[38;5;28mprint\u001b[39m(\u001b[38;5;124mf\u001b[39m\u001b[38;5;124m\"\u001b[39m\u001b[38;5;124mArray \u001b[39m\u001b[38;5;124m'\u001b[39m\u001b[38;5;132;01m{\u001b[39;00mname\u001b[38;5;132;01m}\u001b[39;00m\u001b[38;5;124m'\u001b[39m\u001b[38;5;124m:\u001b[39m\u001b[38;5;124m\"\u001b[39m)\n\u001b[0;32m     12\u001b[0m \u001b[38;5;66;03m# Access individual arrays\u001b[39;00m\n\u001b[1;32m---> 13\u001b[0m array1 \u001b[38;5;241m=\u001b[39m loaded_data[array1]\n\u001b[0;32m     14\u001b[0m array2 \u001b[38;5;241m=\u001b[39m loaded_data[array2]\n\u001b[0;32m     16\u001b[0m \u001b[38;5;28mprint\u001b[39m(\u001b[38;5;124m\"\u001b[39m\u001b[38;5;124mArray 1:\u001b[39m\u001b[38;5;124m\"\u001b[39m, array1)\n",
      "File \u001b[1;32m~\\anaconda3\\Lib\\site-packages\\numpy\\lib\\npyio.py:245\u001b[0m, in \u001b[0;36mNpzFile.__getitem__\u001b[1;34m(self, key)\u001b[0m\n\u001b[0;32m    235\u001b[0m \u001b[38;5;28;01mdef\u001b[39;00m \u001b[38;5;21m__getitem__\u001b[39m(\u001b[38;5;28mself\u001b[39m, key):\n\u001b[0;32m    236\u001b[0m     \u001b[38;5;66;03m# FIXME: This seems like it will copy strings around\u001b[39;00m\n\u001b[0;32m    237\u001b[0m     \u001b[38;5;66;03m#   more than is strictly necessary.  The zipfile\u001b[39;00m\n\u001b[1;32m   (...)\u001b[0m\n\u001b[0;32m    242\u001b[0m     \u001b[38;5;66;03m#   (or at least uncompress) the data\u001b[39;00m\n\u001b[0;32m    243\u001b[0m     \u001b[38;5;66;03m#   directly into the array memory.\u001b[39;00m\n\u001b[0;32m    244\u001b[0m     member \u001b[38;5;241m=\u001b[39m \u001b[38;5;28;01mFalse\u001b[39;00m\n\u001b[1;32m--> 245\u001b[0m     \u001b[38;5;28;01mif\u001b[39;00m key \u001b[38;5;129;01min\u001b[39;00m \u001b[38;5;28mself\u001b[39m\u001b[38;5;241m.\u001b[39m_files:\n\u001b[0;32m    246\u001b[0m         member \u001b[38;5;241m=\u001b[39m \u001b[38;5;28;01mTrue\u001b[39;00m\n\u001b[0;32m    247\u001b[0m     \u001b[38;5;28;01melif\u001b[39;00m key \u001b[38;5;129;01min\u001b[39;00m \u001b[38;5;28mself\u001b[39m\u001b[38;5;241m.\u001b[39mfiles:\n",
      "\u001b[1;31mValueError\u001b[0m: The truth value of an array with more than one element is ambiguous. Use a.any() or a.all()"
     ]
    }
   ],
   "source": [
    "np.savez(\"D:/MyData/data.npz\", array1=np.arange(10), array2=np.random.rand(5,5))\n",
    "\n",
    "# Load multiple arrays from a .npz file\n",
    "loaded_data = np.load(\"D:/MyData/data.npz\")\n",
    "\n",
    "print(\"Array names in the file:\", loaded_data.files)\n",
    "\n",
    "# Access arrays dynamically\n",
    "for name in loaded_data.files:\n",
    "    print(f\"Array '{name}':\")\n",
    "\n",
    "# Access individual arrays\n",
    "array1 = loaded_data[\"array1\"]\n",
    "array2 = loaded_data[\"array2\"]\n",
    "\n",
    "print(\"Array 1:\", array1)\n",
    "print(\"Array 2:\", array2)"
   ]
  },
  {
   "cell_type": "markdown",
   "id": "d0c9f1bc",
   "metadata": {},
   "source": [
    "# Save & Load NumPy Arrays Dynamically"
   ]
  },
  {
   "cell_type": "code",
   "execution_count": 63,
   "id": "0a5876d7",
   "metadata": {},
   "outputs": [
    {
     "name": "stdout",
     "output_type": "stream",
     "text": [
      "✅ Arrays saved successfully at: D:/MyData\\data.npz\n",
      "📂 Arrays stored in the file: ['array1', 'array2', 'array3']\n",
      "\n",
      "🔹 Array Name: 'array1'\n",
      "[0 1 2 3 4 5 6 7 8 9]\n",
      "\n",
      "🔹 Array Name: 'array2'\n",
      "[[0.18251434 0.84915638 0.61720405 0.59936422 0.93322997]\n",
      " [0.21589732 0.75599446 0.99419787 0.83013019 0.32557365]\n",
      " [0.82958217 0.63433591 0.30494251 0.52897718 0.72091973]\n",
      " [0.07162021 0.33427732 0.36384985 0.03783377 0.4927138 ]\n",
      " [0.85683844 0.14624114 0.99847264 0.4454132  0.53520533]]\n",
      "\n",
      "🔹 Array Name: 'array3'\n",
      "[ 1.          6.44444444 11.88888889 17.33333333 22.77777778 28.22222222\n",
      " 33.66666667 39.11111111 44.55555556 50.        ]\n",
      "\n",
      "🎯 Accessing arrays using dynamic variables:\n",
      "array1: [0 1 2 3 4 5 6 7 8 9]\n",
      "array2: [[0.18251434 0.84915638 0.61720405 0.59936422 0.93322997]\n",
      " [0.21589732 0.75599446 0.99419787 0.83013019 0.32557365]\n",
      " [0.82958217 0.63433591 0.30494251 0.52897718 0.72091973]\n",
      " [0.07162021 0.33427732 0.36384985 0.03783377 0.4927138 ]\n",
      " [0.85683844 0.14624114 0.99847264 0.4454132  0.53520533]]\n",
      "array3: [ 1.          6.44444444 11.88888889 17.33333333 22.77777778 28.22222222\n",
      " 33.66666667 39.11111111 44.55555556 50.        ]\n"
     ]
    }
   ],
   "source": [
    "import numpy as np\n",
    "import os\n",
    "\n",
    "# Step 1: Define the folder and filename\n",
    "folder_path = \"D:/MyData\"  # Change this to your desired location\n",
    "file_name = \"data.npz\"\n",
    "full_path = os.path.join(folder_path, file_name)\n",
    "\n",
    "# Step 2: Create the folder if it doesn't exist\n",
    "os.makedirs(folder_path, exist_ok=True)\n",
    "\n",
    "# Step 3: Create multiple arrays\n",
    "array1 = np.arange(10)  # Array of numbers from 0 to 9\n",
    "array2 = np.random.rand(5, 5)  # 5x5 random matrix\n",
    "array3 = np.linspace(1, 50, 10)  # 10 evenly spaced numbers from 1 to 50\n",
    "\n",
    "# Step 4: Save multiple arrays dynamically\n",
    "np.savez(full_path, array1=array1, array2=array2, array3=array3)\n",
    "\n",
    "print(f\"✅ Arrays saved successfully at: {full_path}\")\n",
    "\n",
    "# ------------------------------------------\n",
    "# Step 5: Load the .npz file dynamically\n",
    "loaded_data = np.load(full_path)\n",
    "\n",
    "# Step 6: Print all stored array names\n",
    "print(\"📂 Arrays stored in the file:\", loaded_data.files)\n",
    "\n",
    "# Step 7: Store all arrays dynamically in a dictionary\n",
    "arrays_dict = {name: loaded_data[name] for name in loaded_data.files}\n",
    "\n",
    "# Step 8: Access arrays dynamically without hardcoding\n",
    "for name, array in arrays_dict.items():\n",
    "    print(f\"\\n🔹 Array Name: '{name}'\")\n",
    "    print(array)\n",
    "\n",
    "# Step 9: Optionally, create global variables dynamically (use with caution)\n",
    "for name in loaded_data.files:\n",
    "    globals()[name] = loaded_data[name]  #  Automatically create variables using globals() so arrays can be accessed without dictionary lookup.\n",
    "\n",
    "# Now you can access arrays without hardcoding names\n",
    "print(\"\\n🎯 Accessing arrays using dynamic variables:\")\n",
    "print(\"array1:\", array1)  # Access dynamically created variable\n",
    "print(\"array2:\", array2)\n",
    "print(\"array3:\", array3)"
   ]
  },
  {
   "cell_type": "markdown",
   "id": "f9ce3363",
   "metadata": {},
   "source": [
    "# Lambda Functions in Python\n",
    "\n",
    "small anonymous function that can have multiple arguments but only a single expression.\n",
    "\n",
    "variable =  lambda arguments : expression\n",
    "\n",
    "\n",
    "When to Use Lambda Functions?\n",
    "\n",
    "✅ When you need a short function for one-time use\n",
    "✅ When using functions like map(), filter(), reduce()\n",
    "✅ When sorting data with custom criteria\n"
   ]
  },
  {
   "cell_type": "code",
   "execution_count": 66,
   "id": "8424c951",
   "metadata": {},
   "outputs": [
    {
     "name": "stdout",
     "output_type": "stream",
     "text": [
      "11\n"
     ]
    }
   ],
   "source": [
    "sum = lambda a,b : 5+6\n",
    "\n",
    "print(sum(4,5))"
   ]
  },
  {
   "cell_type": "markdown",
   "id": "cdb2f5a8",
   "metadata": {},
   "source": [
    "map() function applies a function to all items in an iterable."
   ]
  },
  {
   "cell_type": "code",
   "execution_count": 72,
   "id": "69763966",
   "metadata": {},
   "outputs": [
    {
     "name": "stdout",
     "output_type": "stream",
     "text": [
      "[1, 4, 9, 16]\n"
     ]
    }
   ],
   "source": [
    "Num_list = [1,2,3,4]\n",
    "\n",
    "Square_Each_Number = list(map(lambda x: x**2, Num_list ))\n",
    "\n",
    "print(Square_Each_Number)"
   ]
  },
  {
   "cell_type": "markdown",
   "id": "0bccaeb9",
   "metadata": {},
   "source": [
    "filter() function filters elements based on a condition."
   ]
  },
  {
   "cell_type": "code",
   "execution_count": 73,
   "id": "3bfb0acc",
   "metadata": {},
   "outputs": [
    {
     "name": "stdout",
     "output_type": "stream",
     "text": [
      "[2, 4]\n"
     ]
    }
   ],
   "source": [
    "Num_list = [1,2,3,4]\n",
    "\n",
    "Even_Numbers = list(filter(lambda x:x%2==0, Num_list))\n",
    "\n",
    "print(Even_Numbers)"
   ]
  },
  {
   "cell_type": "code",
   "execution_count": 78,
   "id": "8048dbad",
   "metadata": {},
   "outputs": [
    {
     "name": "stdout",
     "output_type": "stream",
     "text": [
      "<filter object at 0x000001B0552AB2E0>\n",
      "[2, 4]\n"
     ]
    }
   ],
   "source": [
    "Num_list = [1,2,3,4]\n",
    "\n",
    "Even_Numbers = filter(lambda x:x%2==0, Num_list)\n",
    "\n",
    "print(Even_Numbers)\n",
    "\n",
    "print(list(Even_Numbers))"
   ]
  },
  {
   "cell_type": "markdown",
   "id": "177d3539",
   "metadata": {},
   "source": [
    "# Reduce"
   ]
  },
  {
   "cell_type": "code",
   "execution_count": 77,
   "id": "53b859c0",
   "metadata": {},
   "outputs": [
    {
     "name": "stdout",
     "output_type": "stream",
     "text": [
      "120\n"
     ]
    }
   ],
   "source": [
    "## from functools import reduce\n",
    "\n",
    "nums = [1, 2, 3, 4, 5]\n",
    "product = reduce(lambda x, y: x * y, nums)\n",
    "print(product)  # Output: 120"
   ]
  },
  {
   "cell_type": "markdown",
   "id": "5b00b679",
   "metadata": {},
   "source": [
    "# Sorted"
   ]
  },
  {
   "cell_type": "code",
   "execution_count": 79,
   "id": "4d05d145",
   "metadata": {},
   "outputs": [
    {
     "name": "stdout",
     "output_type": "stream",
     "text": [
      "[('kk', 28), ('gt', 43), ('nn', 51)]\n"
     ]
    }
   ],
   "source": [
    "name_age = [(\"gt\",43),(\"kk\",28),(\"nn\",51)]\n",
    "\n",
    "\n",
    "age_sorted = sorted(name_age,  key = lambda x : x[1])\n",
    "\n",
    "print(age_sorted)\n"
   ]
  },
  {
   "cell_type": "markdown",
   "id": "66d46e4e",
   "metadata": {},
   "source": [
    "# Conditional Expressions in Lambda"
   ]
  },
  {
   "cell_type": "code",
   "execution_count": 81,
   "id": "307c3d89",
   "metadata": {},
   "outputs": [
    {
     "data": {
      "text/plain": [
       "55"
      ]
     },
     "execution_count": 81,
     "metadata": {},
     "output_type": "execute_result"
    }
   ],
   "source": [
    "max_num = lambda x,y : x if x > y else y\n",
    "\n",
    "max_num(40,55)"
   ]
  },
  {
   "cell_type": "markdown",
   "id": "8ed0d914",
   "metadata": {},
   "source": [
    "# Multiple Arguments in Lambda"
   ]
  },
  {
   "cell_type": "code",
   "execution_count": 83,
   "id": "457fbf58",
   "metadata": {},
   "outputs": [
    {
     "data": {
      "text/plain": [
       "24"
      ]
     },
     "execution_count": 83,
     "metadata": {},
     "output_type": "execute_result"
    }
   ],
   "source": [
    "mul = lambda x,y,z :  x*y*z\n",
    "\n",
    "mul(2,3,4)"
   ]
  },
  {
   "cell_type": "markdown",
   "id": "1b29252e",
   "metadata": {},
   "source": [
    "# Lambda in List Comprehensions"
   ]
  },
  {
   "cell_type": "code",
   "execution_count": 94,
   "id": "ac8efea5",
   "metadata": {},
   "outputs": [
    {
     "name": "stdout",
     "output_type": "stream",
     "text": [
      "[2, 4, 6, 8, 10]\n",
      "[2, 4, 6, 8, 10]\n",
      "[2, 4, 6, 8, 10]\n",
      "[2, 4, 6, 8, 10]\n"
     ]
    }
   ],
   "source": [
    "nums = [1, 2, 3, 4, 5]\n",
    "\n",
    "\n",
    "\n",
    "def double(y):\n",
    "    return y * 2\n",
    "\n",
    "double_nums_1 = [double(y) for y in nums]\n",
    "print(double_nums_1)\n",
    "\n",
    "\n",
    "\n",
    "double_nums_2 = list(map(lambda x: x * 2, nums))\n",
    "print(double_nums_2)\n",
    "\n",
    "\n",
    "\n",
    "double_nums_3= [(lambda x: x * 2) (x) for x in nums]\n",
    "print(double_nums_3)  # Output: [2, 4, 6, 8, 10]\n",
    "\n",
    "\n",
    "\n",
    "double_nums_4 = [x * 2 for x in nums]\n",
    "print(double_nums_4)"
   ]
  },
  {
   "cell_type": "code",
   "execution_count": null,
   "id": "b7bbe034",
   "metadata": {},
   "outputs": [],
   "source": []
  },
  {
   "cell_type": "code",
   "execution_count": 111,
   "id": "ee6dbd6e",
   "metadata": {},
   "outputs": [
    {
     "name": "stdout",
     "output_type": "stream",
     "text": [
      "[1, 4, 9, 16, 25]\n",
      "{64, 1, 8, 216, 27, 125}\n",
      "[2, 4]\n",
      "{1: 1, 2: 4, 3: 9, 4: 16, 5: 25}\n"
     ]
    }
   ],
   "source": [
    "nums =  [1,2,3,4,5]\n",
    "nums2 =  [1,2,2,3,4,4,5,6,6,6]\n",
    "\n",
    "\n",
    "square_nums_list =  [x*x for x  in nums]\n",
    "print(square_nums_list)\n",
    "\n",
    "cube_nums_set =  {x*x*x for x  in nums2}\n",
    "print(cube_nums_set)\n",
    "\n",
    "\n",
    "even_nums_list = [x  for  x  in  nums if x % 2 == 0]\n",
    "print(even_nums_list)\n",
    "\n",
    "\n",
    "square_nums_dict =  {x : x*x for x  in nums}\n",
    "print(square_nums_dict)\n"
   ]
  },
  {
   "cell_type": "code",
   "execution_count": 113,
   "id": "bd90db15",
   "metadata": {},
   "outputs": [
    {
     "name": "stdout",
     "output_type": "stream",
     "text": [
      "{1, 2, 3, 4, 5}\n",
      "[1, 2, 3, 4, 5]\n"
     ]
    }
   ],
   "source": [
    "num = [1,2,2,3,4,4,4,5]\n",
    "\n",
    "print(set(num))\n",
    "\n",
    "print(list(set(num)))"
   ]
  },
  {
   "cell_type": "markdown",
   "id": "bbe5ef19",
   "metadata": {},
   "source": [
    "# Generator Expressions (Memory Efficient Alternative to List Comprehensions)"
   ]
  },
  {
   "cell_type": "code",
   "execution_count": 116,
   "id": "dc84ae06",
   "metadata": {},
   "outputs": [
    {
     "name": "stdout",
     "output_type": "stream",
     "text": [
      "1\n",
      "4\n",
      "9\n"
     ]
    }
   ],
   "source": [
    "squares = (x**2 for x in range(1, 100))  # Uses less memory than a list\n",
    "print(next(squares))  # Output: 1\n",
    "print(next(squares)) \n",
    "print(next(squares))\n",
    "# Output: 4"
   ]
  },
  {
   "cell_type": "code",
   "execution_count": 117,
   "id": "4e3271be",
   "metadata": {},
   "outputs": [
    {
     "name": "stdout",
     "output_type": "stream",
     "text": [
      "100\n"
     ]
    }
   ],
   "source": [
    "power = lambda y : 10**y\n",
    "\n",
    "print(power(2))\n",
    "\n",
    "\n",
    "\n"
   ]
  },
  {
   "cell_type": "code",
   "execution_count": 119,
   "id": "18969e26",
   "metadata": {},
   "outputs": [
    {
     "name": "stdout",
     "output_type": "stream",
     "text": [
      "8\n"
     ]
    }
   ],
   "source": [
    "from functools import partial\n",
    "def power(x, y):\n",
    "    return x ** y\n",
    "\n",
    "\n",
    "square = partial(power, 2)  # Locks `x=2`\n",
    "print(square(3))"
   ]
  },
  {
   "cell_type": "code",
   "execution_count": 139,
   "id": "1137407b",
   "metadata": {},
   "outputs": [
    {
     "name": "stdout",
     "output_type": "stream",
     "text": [
      "Iteration 1: 2^3 = 8\n",
      "Iteration 2: 3^3 = 27\n",
      "Iteration 3: 4^3 = 64\n",
      "Iteration 4: 5^3 = 125\n",
      "Iteration 5: 6^3 = 216\n",
      "Iteration 6: 7^3 = 343\n",
      "Iteration 7: 8^3 = 512\n",
      "Iteration 8: 9^3 = 729\n",
      "Iteration 9: 10^3 = 1000\n"
     ]
    }
   ],
   "source": [
    "from functools import partial\n",
    "\n",
    "def power(x, y):\n",
    "    return x ** y\n",
    "\n",
    "# Initialize values\n",
    "x_value = 2  # Starting value of x\n",
    "y_fixed = 3  # Keep y constant\n",
    "iterations = 9  # Number of iterations\n",
    "\n",
    "for i in range(1, iterations + 1):\n",
    "    square = partial(power, x_value)  # Lock `x=x_value`\n",
    "    print(f\"Iteration {i}: {x_value}^{y_fixed} =\", square(y_fixed))  # Keep y fixed\n",
    "\n",
    "    # Every 3 iterations, increment x_value\n",
    "    \n",
    "    x_value += 1"
   ]
  },
  {
   "cell_type": "code",
   "execution_count": 140,
   "id": "3546d22d",
   "metadata": {},
   "outputs": [
    {
     "name": "stdout",
     "output_type": "stream",
     "text": [
      "Iteration 1: 2^3 = 8\n",
      "Iteration 2: 3^3 = 27\n",
      "Iteration 3: 4^3 = 64\n",
      "Iteration 4: 5^3 = 125\n",
      "Iteration 5: 6^3 = 216\n",
      "Iteration 6: 7^3 = 343\n",
      "Iteration 7: 8^3 = 512\n",
      "Iteration 8: 9^3 = 729\n",
      "Iteration 9: 10^3 = 1000\n"
     ]
    }
   ],
   "source": [
    "power = lambda x, y: x ** y\n",
    "\n",
    "# Initialize values\n",
    "x_value = 2  # Starting value of x\n",
    "y_fixed = 3  # Keep y constant\n",
    "iterations = 9  # Number of iterations\n",
    "\n",
    "for i in range(1, iterations + 1):\n",
    "    print(f\"Iteration {i}: {x_value}^{y_fixed} =\", power(x_value, y_fixed))  # Call lambda directly\n",
    "\n",
    "    # Every 3 iterations, increment x_value\n",
    "    x_value += 1"
   ]
  },
  {
   "cell_type": "markdown",
   "id": "ae9d1da5",
   "metadata": {},
   "source": [
    "\n",
    "# enumerate() (Indexing in Loops)\n"
   ]
  },
  {
   "cell_type": "code",
   "execution_count": 143,
   "id": "c28ac81a",
   "metadata": {},
   "outputs": [
    {
     "name": "stdout",
     "output_type": "stream",
     "text": [
      "1 apple\n",
      "2 banana\n",
      "3 cherry\n"
     ]
    }
   ],
   "source": [
    "fruits = [\"apple\", \"banana\", \"cherry\"]\n",
    "for index, fruit in enumerate(fruits, start=1):\n",
    "    print(index, fruit)"
   ]
  },
  {
   "cell_type": "markdown",
   "id": "0a0f3e18",
   "metadata": {},
   "source": [
    "# zip() (Combine Multiple Lists Easily)"
   ]
  },
  {
   "cell_type": "code",
   "execution_count": 147,
   "id": "d27c7ab5",
   "metadata": {},
   "outputs": [
    {
     "name": "stdout",
     "output_type": "stream",
     "text": [
      "[('Alice', 85), ('Bob', 92), ('Charlie', 78)]\n"
     ]
    }
   ],
   "source": [
    "names = [\"Alice\", \"Bob\", \"Charlie\"]\n",
    "scores = [85, 92, 78]\n",
    "\n",
    "combined = list(zip(names, scores))\n",
    "print(combined) "
   ]
  },
  {
   "cell_type": "markdown",
   "id": "9c51a02f",
   "metadata": {},
   "source": [
    "# itertools (Advanced Iteration Tricks)"
   ]
  },
  {
   "cell_type": "code",
   "execution_count": 149,
   "id": "46d49a66",
   "metadata": {},
   "outputs": [
    {
     "name": "stdout",
     "output_type": "stream",
     "text": [
      "10\n",
      "12\n",
      "14\n",
      "16\n",
      "18\n",
      "20\n"
     ]
    }
   ],
   "source": [
    "from itertools import count\n",
    "\n",
    "for num in count(10, 2):  # Start from 10, step by 2\n",
    "    if num > 20:\n",
    "        break\n",
    "    print(num)\n"
   ]
  },
  {
   "cell_type": "markdown",
   "id": "5299b1be",
   "metadata": {},
   "source": [
    "# Creating Combinations"
   ]
  },
  {
   "cell_type": "code",
   "execution_count": 152,
   "id": "60931993",
   "metadata": {},
   "outputs": [
    {
     "name": "stdout",
     "output_type": "stream",
     "text": [
      "[('A', 'B'), ('A', 'C'), ('B', 'C')]\n"
     ]
    }
   ],
   "source": [
    "from itertools import combinations\n",
    "\n",
    "items = [\"A\", \"B\", \"C\"]\n",
    "print(list(combinations(items, 2)))"
   ]
  },
  {
   "cell_type": "code",
   "execution_count": 157,
   "id": "514d123f",
   "metadata": {},
   "outputs": [
    {
     "name": "stdout",
     "output_type": "stream",
     "text": [
      "[('Bob', 78), ('Alice', 85), ('Charlie', 92)]\n",
      "[('Bob', 78), ('Alice', 85), ('Charlie', 92)]\n"
     ]
    }
   ],
   "source": [
    "students = [(\"Alice\", 85), (\"Bob\", 78), (\"Charlie\", 92)]\n",
    "\n",
    "from operator import itemgetter\n",
    "\n",
    "\n",
    "sorted_students1 = sorted(students, key=lambda x: x[1])\n",
    "sorted_students2 = sorted(students, key=itemgetter(1))\n",
    "\n",
    "print(sorted_students1)\n",
    "print(sorted_students2)"
   ]
  },
  {
   "cell_type": "code",
   "execution_count": 158,
   "id": "bafcf125",
   "metadata": {},
   "outputs": [
    {
     "name": "stdout",
     "output_type": "stream",
     "text": [
      "Extracted value: 10540\n",
      "Extracted value: 10540\n"
     ]
    }
   ],
   "source": [
    "book = (\"The Alchemist\", 10540)\n",
    "\n",
    "\n",
    "def some_name(x):\n",
    "    return x[1]\n",
    "\n",
    "price = some_name(book)\n",
    "print(\"Extracted value:\", price)      \n",
    "\n",
    "\n",
    "some_name = lambda x: x[1]\n",
    "\n",
    "price = some_name(book)\n",
    "print(\"Extracted value:\", price)"
   ]
  },
  {
   "cell_type": "code",
   "execution_count": 159,
   "id": "120e7533",
   "metadata": {},
   "outputs": [
    {
     "name": "stdout",
     "output_type": "stream",
     "text": [
      "[('Book2', 200), ('Book1', 500), ('Book3', 800)]\n"
     ]
    }
   ],
   "source": [
    "def get_price(book):\n",
    "    return book[1]  # Extracts the second element (price)\n",
    "\n",
    "books = [(\"Book1\", 500), (\"Book2\", 200), (\"Book3\", 800)]\n",
    "sorted_books = sorted(books, key=get_price)  # Sorts books based on price\n",
    "\n",
    "print(sorted_books)"
   ]
  },
  {
   "cell_type": "code",
   "execution_count": null,
   "id": "93ea36ce",
   "metadata": {},
   "outputs": [],
   "source": [
    "def get_price(book):\n",
    "    return book[1]  # Extracts the second element (price)\n",
    "\n",
    "def bubble_sort(books):\n",
    "    n = len(books)\n",
    "    for i in range(n):\n",
    "        for j in range(0, n - i - 1):\n",
    "            if get_price(books[j]) > get_price(books[j + 1]):  # Compare prices\n",
    "                books[j], books[j + 1] = books[j + 1], books[j]  # Swap\n",
    "    return books\n",
    "\n",
    "# Sample books\n",
    "books = [(\"A\", 500), (\"B\", 200), (\"C\", 800)]\n",
    "sorted_books = bubble_sort(books)  # Sort books\n",
    "\n",
    "# Print sorted books\n",
    "print(sorted_books)"
   ]
  },
  {
   "cell_type": "code",
   "execution_count": 160,
   "id": "08c46c4c",
   "metadata": {},
   "outputs": [
    {
     "name": "stdout",
     "output_type": "stream",
     "text": [
      "[500, 200, 800]\n"
     ]
    }
   ],
   "source": [
    "def extract_price(book):\n",
    "    return book[1]  # Extracts price from tuple\n",
    "\n",
    "books = [(\"Book1\", 500), (\"Book2\", 200), (\"Book3\", 800)]\n",
    "prices = list(map(extract_price, books))  # Maps function to list\n",
    "\n",
    "print(prices) "
   ]
  },
  {
   "cell_type": "markdown",
   "id": "b2e9015f",
   "metadata": {},
   "source": [
    "## any() and all() (Quick Logical Checks on Lists)"
   ]
  },
  {
   "cell_type": "code",
   "execution_count": 162,
   "id": "74537bfe",
   "metadata": {},
   "outputs": [
    {
     "name": "stdout",
     "output_type": "stream",
     "text": [
      "True\n"
     ]
    }
   ],
   "source": [
    "nums = [1, 3, 5, 7, 8]\n",
    "print(any(x % 2 == 0 for x in nums))  # Output: True"
   ]
  },
  {
   "cell_type": "code",
   "execution_count": 163,
   "id": "d9875533",
   "metadata": {},
   "outputs": [
    {
     "name": "stdout",
     "output_type": "stream",
     "text": [
      "True\n"
     ]
    }
   ],
   "source": [
    "nums = [2, 4, 6, 8]\n",
    "print(all(x % 2 == 0 for x in nums))  # Output: True"
   ]
  },
  {
   "cell_type": "code",
   "execution_count": null,
   "id": "9a24c5b9",
   "metadata": {},
   "outputs": [],
   "source": [
    "%autosave 0"
   ]
  },
  {
   "cell_type": "code",
   "execution_count": null,
   "id": "202fcadb",
   "metadata": {},
   "outputs": [],
   "source": []
  }
 ],
 "metadata": {
  "kernelspec": {
   "display_name": "Python 3 (ipykernel)",
   "language": "python",
   "name": "python3"
  },
  "language_info": {
   "codemirror_mode": {
    "name": "ipython",
    "version": 3
   },
   "file_extension": ".py",
   "mimetype": "text/x-python",
   "name": "python",
   "nbconvert_exporter": "python",
   "pygments_lexer": "ipython3",
   "version": "3.11.7"
  }
 },
 "nbformat": 4,
 "nbformat_minor": 5
}
